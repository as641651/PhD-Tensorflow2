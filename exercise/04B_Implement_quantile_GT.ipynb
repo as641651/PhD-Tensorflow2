{
 "cells": [
  {
   "cell_type": "code",
   "execution_count": 1,
   "metadata": {},
   "outputs": [],
   "source": [
    "import numpy as np\n",
    "import matplotlib.pyplot as plt\n",
    "%matplotlib inline\n",
    "plt.rcParams[\"figure.figsize\"] = (20,10)"
   ]
  },
  {
   "cell_type": "code",
   "execution_count": 19,
   "metadata": {},
   "outputs": [],
   "source": [
    "filename = \"data/gemm2000_shuffled_timeperf_std.txt\"\n",
    "data = {}\n",
    "with open(filename) as f:\n",
    "    lines = f.readlines()\n",
    "    for line in lines:\n",
    "        try:\n",
    "            data[float(line.split()[0])].append(float(line.split()[2]))\n",
    "        except KeyError:\n",
    "            data[float(line.split()[0])] = []\n",
    "            data[float(line.split()[0])].append(float(line.split()[2]))\n",
    "\n",
    "for k,v in data.items():\n",
    "    v.sort()"
   ]
  },
  {
   "cell_type": "code",
   "execution_count": 22,
   "metadata": {},
   "outputs": [
    {
     "data": {
      "text/plain": [
       "0.44561163553305844"
      ]
     },
     "execution_count": 22,
     "metadata": {},
     "output_type": "execute_result"
    }
   ],
   "source": [
    "data[1370.0][10]"
   ]
  },
  {
   "cell_type": "code",
   "execution_count": 25,
   "metadata": {},
   "outputs": [],
   "source": [
    "x_q = []\n",
    "y_q = []\n",
    "for k,v in data.items():\n",
    "    x_q.append(k)\n",
    "    y_q.append(v[10])"
   ]
  },
  {
   "cell_type": "code",
   "execution_count": null,
   "metadata": {},
   "outputs": [],
   "source": []
  },
  {
   "cell_type": "code",
   "execution_count": null,
   "metadata": {},
   "outputs": [],
   "source": []
  }
 ],
 "metadata": {
  "kernelspec": {
   "display_name": "Python 3",
   "language": "python",
   "name": "python3"
  },
  "language_info": {
   "codemirror_mode": {
    "name": "ipython",
    "version": 3
   },
   "file_extension": ".py",
   "mimetype": "text/x-python",
   "name": "python",
   "nbconvert_exporter": "python",
   "pygments_lexer": "ipython3",
   "version": "3.6.8"
  }
 },
 "nbformat": 4,
 "nbformat_minor": 2
}
