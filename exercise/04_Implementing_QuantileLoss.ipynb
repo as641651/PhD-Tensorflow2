{
 "cells": [
  {
   "cell_type": "markdown",
   "metadata": {},
   "source": [
    "### Implementing Quantile loss "
   ]
  },
  {
   "cell_type": "markdown",
   "metadata": {},
   "source": [
    "$L_q(y_i, \\mathbf{f}_i) = \\sum_{i=y_i < \\mathbf{f}_i} (1-q)|y_i - \\mathbf{f}_i | + \\sum_{i=y_i \\ge \\mathbf{f}_i} (q)|y_i - \\mathbf{f}_i | $\n",
    "\n",
    "$\\qquad \\qquad  = \\sum_{i}\\text{max}(q(y_i - f_i), (1-q)(f_i - y_i))$\n",
    "\n",
    "$\\qquad \\qquad  = \\sum_{i}\\text{max}(q.\\epsilon_i, (q-1)(\\epsilon_i)) \\qquad \\qquad \\text{where } \\epsilon_{i}=y_i-f_i $\n",
    "\n",
    "$\\qquad \\qquad  = \\sum_{i}( q.\\epsilon_i + \\text{max}(0, -\\epsilon_i))$"
   ]
  },
  {
   "cell_type": "code",
   "execution_count": 9,
   "metadata": {},
   "outputs": [],
   "source": [
    "import tensorflow as tf\n",
    "import numpy as np\n",
    "import matplotlib.pyplot as plt\n",
    "%matplotlib inline"
   ]
  },
  {
   "cell_type": "code",
   "execution_count": 27,
   "metadata": {},
   "outputs": [],
   "source": [
    "def quantile_loss(q,y,f):\n",
    "    e = (y-f)\n",
    "    return tf.keras.backend.mean(q*e + tf.keras.backend.clip(-e,tf.keras.backend.epsilon(),np.inf),axis=-1)"
   ]
  },
  {
   "cell_type": "markdown",
   "metadata": {},
   "source": [
    "### Check tf functions"
   ]
  },
  {
   "cell_type": "code",
   "execution_count": 19,
   "metadata": {},
   "outputs": [
    {
     "data": {
      "text/plain": [
       "<tf.Tensor: id=87, shape=(10, 1), dtype=float32, numpy=\n",
       "array([[ 2.7591248],\n",
       "       [-5.0407386],\n",
       "       [-0.441823 ],\n",
       "       [ 9.208778 ],\n",
       "       [-7.3465323],\n",
       "       [ 3.432355 ],\n",
       "       [-9.491777 ],\n",
       "       [ 7.791157 ],\n",
       "       [-7.6454353],\n",
       "       [ 7.7363243]], dtype=float32)>"
      ]
     },
     "execution_count": 19,
     "metadata": {},
     "output_type": "execute_result"
    }
   ],
   "source": [
    "x = tf.random.uniform((10,1),-10,10)\n",
    "x"
   ]
  },
  {
   "cell_type": "code",
   "execution_count": 62,
   "metadata": {},
   "outputs": [
    {
     "data": {
      "text/plain": [
       "<tf.Tensor: id=198, shape=(10, 1), dtype=float32, numpy=\n",
       "array([[2.7591248],\n",
       "       [0.       ],\n",
       "       [0.       ],\n",
       "       [9.208778 ],\n",
       "       [0.       ],\n",
       "       [3.432355 ],\n",
       "       [0.       ],\n",
       "       [7.791157 ],\n",
       "       [0.       ],\n",
       "       [7.7363243]], dtype=float32)>"
      ]
     },
     "execution_count": 62,
     "metadata": {},
     "output_type": "execute_result"
    }
   ],
   "source": [
    "## max reduces to maximum value ina tensor. IF we dont use clip, then we have to loop over the tensor\n",
    "c = tf.keras.backend.clip(x,0,np.inf) \n",
    "c"
   ]
  },
  {
   "cell_type": "code",
   "execution_count": 84,
   "metadata": {},
   "outputs": [
    {
     "data": {
      "text/plain": [
       "<tf.Tensor: id=387, shape=(10,), dtype=float32, numpy=\n",
       "array([2.7591248, 0.       , 0.       , 9.208778 , 0.       , 3.432355 ,\n",
       "       0.       , 7.791157 , 0.       , 7.7363243], dtype=float32)>"
      ]
     },
     "execution_count": 84,
     "metadata": {},
     "output_type": "execute_result"
    }
   ],
   "source": [
    "tf.keras.backend.mean(c,axis=-1)"
   ]
  },
  {
   "cell_type": "code",
   "execution_count": 24,
   "metadata": {},
   "outputs": [
    {
     "data": {
      "text/plain": [
       "1e-07"
      ]
     },
     "execution_count": 24,
     "metadata": {},
     "output_type": "execute_result"
    }
   ],
   "source": [
    "tf.keras.backend.epsilon()"
   ]
  },
  {
   "cell_type": "markdown",
   "metadata": {},
   "source": [
    "### Check loss fn"
   ]
  },
  {
   "cell_type": "code",
   "execution_count": 51,
   "metadata": {},
   "outputs": [],
   "source": [
    "y = tf.constant(np.linspace(-100,100,100,dtype=\"float64\")[...,np.newaxis])\n",
    "f = tf.constant(np.zeros(100,dtype=\"float64\")[...,np.newaxis])"
   ]
  },
  {
   "cell_type": "code",
   "execution_count": 69,
   "metadata": {},
   "outputs": [
    {
     "data": {
      "text/plain": [
       "<tf.Tensor: id=314, shape=(100,), dtype=float64, numpy=\n",
       "array([10.        ,  9.7979798 ,  9.5959596 ,  9.39393939,  9.19191919,\n",
       "        8.98989899,  8.78787879,  8.58585859,  8.38383838,  8.18181818,\n",
       "        7.97979798,  7.77777778,  7.57575758,  7.37373737,  7.17171717,\n",
       "        6.96969697,  6.76767677,  6.56565657,  6.36363636,  6.16161616,\n",
       "        5.95959596,  5.75757576,  5.55555556,  5.35353535,  5.15151515,\n",
       "        4.94949495,  4.74747475,  4.54545455,  4.34343434,  4.14141414,\n",
       "        3.93939394,  3.73737374,  3.53535354,  3.33333333,  3.13131313,\n",
       "        2.92929293,  2.72727273,  2.52525253,  2.32323232,  2.12121212,\n",
       "        1.91919192,  1.71717172,  1.51515152,  1.31313131,  1.11111111,\n",
       "        0.90909091,  0.70707071,  0.50505051,  0.3030303 ,  0.1010101 ,\n",
       "        0.90909101,  2.72727283,  4.54545465,  6.36363646,  8.18181828,\n",
       "       10.0000001 , 11.81818192, 13.63636374, 15.45454555, 17.27272737,\n",
       "       19.09090919, 20.90909101, 22.72727283, 24.54545465, 26.36363646,\n",
       "       28.18181828, 30.0000001 , 31.81818192, 33.63636374, 35.45454555,\n",
       "       37.27272737, 39.09090919, 40.90909101, 42.72727283, 44.54545465,\n",
       "       46.36363646, 48.18181828, 50.0000001 , 51.81818192, 53.63636374,\n",
       "       55.45454555, 57.27272737, 59.09090919, 60.90909101, 62.72727283,\n",
       "       64.54545465, 66.36363646, 68.18181828, 70.0000001 , 71.81818192,\n",
       "       73.63636374, 75.45454555, 77.27272737, 79.09090919, 80.90909101,\n",
       "       82.72727283, 84.54545465, 86.36363646, 88.18181828, 90.0000001 ])>"
      ]
     },
     "execution_count": 69,
     "metadata": {},
     "output_type": "execute_result"
    }
   ],
   "source": [
    "loss = quantile_loss(0.9,y,f)\n",
    "loss"
   ]
  },
  {
   "cell_type": "code",
   "execution_count": 70,
   "metadata": {},
   "outputs": [
    {
     "data": {
      "text/plain": [
       "[<matplotlib.lines.Line2D at 0x7f1c7cc242b0>]"
      ]
     },
     "execution_count": 70,
     "metadata": {},
     "output_type": "execute_result"
    },
    {
     "data": {
      "image/png": "[encoded data removed]",
      "text/plain": [
       "<Figure size 432x288 with 1 Axes>"
      ]
     },
     "metadata": {
      "needs_background": "light"
     },
     "output_type": "display_data"
    }
   ],
   "source": [
    "plt.xlabel(\"(y-f)\")\n",
    "plt.ylabel(\"quantile loss\")\n",
    "plt.plot(y,loss.numpy())"
   ]
  },
  {
   "cell_type": "code",
   "execution_count": 90,
   "metadata": {},
   "outputs": [],
   "source": [
    "mse = tf.keras.losses.MeanSquaredError()(y,f)"
   ]
  },
  {
   "cell_type": "code",
   "execution_count": 91,
   "metadata": {},
   "outputs": [
    {
     "data": {
      "text/plain": [
       "<tf.Tensor: id=459, shape=(), dtype=float64, numpy=3400.67333984375>"
      ]
     },
     "execution_count": 91,
     "metadata": {},
     "output_type": "execute_result"
    }
   ],
   "source": [
    "mse"
   ]
  },
  {
   "cell_type": "code",
   "execution_count": null,
   "metadata": {},
   "outputs": [],
   "source": []
  }
 ],
 "metadata": {
  "kernelspec": {
   "display_name": "Python 3",
   "language": "python",
   "name": "python3"
  },
  "language_info": {
   "codemirror_mode": {
    "name": "ipython",
    "version": 3
   },
   "file_extension": ".py",
   "mimetype": "text/x-python",
   "name": "python",
   "nbconvert_exporter": "python",
   "pygments_lexer": "ipython3",
   "version": "3.6.8"
  }
 },
 "nbformat": 4,
 "nbformat_minor": 2
}
